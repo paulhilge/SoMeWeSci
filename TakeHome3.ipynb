{
 "cells": [
  {
   "cell_type": "code",
   "execution_count": 1,
   "metadata": {},
   "outputs": [],
   "source": [
    "import pandas as pd\n",
    "import numpy as np"
   ]
  },
  {
   "cell_type": "code",
   "execution_count": 2,
   "metadata": {},
   "outputs": [],
   "source": [
    "df_peer = pd.read_csv('peer_cleaned.csv')\n",
    "df_peer = df_peer.drop(columns=[\"Unnamed: 0\"])"
   ]
  },
  {
   "cell_type": "code",
   "execution_count": 3,
   "metadata": {},
   "outputs": [],
   "source": [
    "#Samplebildung\n",
    "df_peer_sample = df_peer.sample(n=150, replace=True, random_state=1)"
   ]
  },
  {
   "cell_type": "code",
   "execution_count": 4,
   "metadata": {},
   "outputs": [],
   "source": [
    "from collections import Counter"
   ]
  },
  {
   "cell_type": "code",
   "execution_count": 5,
   "metadata": {},
   "outputs": [
    {
     "data": {
      "text/plain": [
       "[('the', 1510),\n",
       " ('of', 996),\n",
       " ('and', 907),\n",
       " ('to', 882),\n",
       " ('in', 616),\n",
       " ('that', 602),\n",
       " ('a', 600),\n",
       " ('is', 592),\n",
       " ('are', 335),\n",
       " ('you', 328),\n",
       " ('not', 296),\n",
       " ('for', 279),\n",
       " ('have', 261),\n",
       " ('on', 239),\n",
       " ('this', 210),\n",
       " ('it', 194),\n",
       " ('your', 188),\n",
       " ('as', 186),\n",
       " ('The', 185),\n",
       " ('or', 176),\n",
       " ('with', 169),\n",
       " ('I', 169),\n",
       " ('be', 159),\n",
       " ('more', 155),\n",
       " ('from', 152),\n",
       " ('😀', 151),\n",
       " ('by', 143),\n",
       " ('any', 131),\n",
       " ('an', 117),\n",
       " ('than', 111),\n",
       " ('but', 109),\n",
       " ('Your', 103),\n",
       " ('can', 100),\n",
       " ('at', 100),\n",
       " ('was', 97),\n",
       " ('has', 91),\n",
       " ('-', 86),\n",
       " ('they', 85),\n",
       " ('other', 84),\n",
       " ('been', 84),\n",
       " ('also', 83),\n",
       " ('do', 82),\n",
       " ('all', 82),\n",
       " ('no', 81),\n",
       " ('we', 81),\n",
       " ('study', 81),\n",
       " ('▶️', 78),\n",
       " ('my', 74),\n",
       " ('which', 72),\n",
       " ('OFNF', 72),\n",
       " ('Natural', 70),\n",
       " ('only', 70),\n",
       " ('A', 67),\n",
       " ('were', 67),\n",
       " ('You', 64),\n",
       " ('Remedies', 64),\n",
       " ('most', 63),\n",
       " ('if', 62),\n",
       " ('very', 61),\n",
       " ('This', 61),\n",
       " ('will', 59),\n",
       " ('what', 58),\n",
       " ('about', 58),\n",
       " ('risk', 57),\n",
       " ('natural', 56),\n",
       " ('so', 56),\n",
       " ('studies', 55),\n",
       " ('AJA', 53),\n",
       " ('one', 53),\n",
       " ('he', 53),\n",
       " ('people', 52),\n",
       " ('medical', 50),\n",
       " ('If', 50),\n",
       " ('some', 50),\n",
       " ('It', 50),\n",
       " ('because', 49),\n",
       " ('health', 49),\n",
       " ('who', 49),\n",
       " ('Remedies:', 48),\n",
       " ('Home', 48),\n",
       " ('may', 48),\n",
       " ('vitamin', 48),\n",
       " ('cholesterol', 48),\n",
       " ('channel', 46),\n",
       " ('diet', 46),\n",
       " ('their', 46),\n",
       " ('there', 45),\n",
       " ('In', 45),\n",
       " ('evolution', 45),\n",
       " ('same', 44),\n",
       " ('up', 44),\n",
       " ('many', 43),\n",
       " ('does', 43),\n",
       " ('our', 42),\n",
       " ('would', 42),\n",
       " ('then', 42),\n",
       " ('data', 42),\n",
       " ('just', 42),\n",
       " ('article', 42),\n",
       " ('With', 41),\n",
       " ('To', 40),\n",
       " ('evidence', 40),\n",
       " ('Ancestral', 39),\n",
       " (\"don't\", 39),\n",
       " ('energy', 39),\n",
       " ('get', 38),\n",
       " ('like', 38),\n",
       " ('even', 38),\n",
       " ('found', 37),\n",
       " ('These', 37),\n",
       " ('animals', 37),\n",
       " ('fat', 37),\n",
       " ('cause', 37),\n",
       " ('these', 37),\n",
       " ('95%', 37),\n",
       " ('vs.', 36),\n",
       " ('human', 34),\n",
       " ('meat', 34),\n",
       " ('Click', 33),\n",
       " ('used', 33),\n",
       " ('less', 33),\n",
       " ('after', 33),\n",
       " ('between', 33),\n",
       " ('Watch', 32),\n",
       " ('recent', 32),\n",
       " ('upload:', 32),\n",
       " ('Naturally:', 32),\n",
       " ('Clean', 32),\n",
       " ('information', 32),\n",
       " ('vaccine', 32),\n",
       " ('tree', 32),\n",
       " ('p', 32),\n",
       " ('OR', 32),\n",
       " ('CI:', 32),\n",
       " ('when', 31),\n",
       " ('lower', 31),\n",
       " ('video', 30),\n",
       " ('_____________________________________________________________', 30),\n",
       " ('treat', 30),\n",
       " ('heart', 30),\n",
       " ('number', 30),\n",
       " ('different', 29),\n",
       " ('still', 29),\n",
       " ('should', 29),\n",
       " ('while', 29),\n",
       " ('could', 29),\n",
       " ('And', 29),\n",
       " ('use', 29),\n",
       " ('Healing', 28),\n",
       " (\"it's\", 28),\n",
       " ('fact', 28),\n",
       " ('out', 28),\n",
       " ('time', 28),\n",
       " ('into', 28),\n",
       " ('high', 28),\n",
       " ('vegan', 28),\n",
       " ('being', 28),\n",
       " ('vaccinated', 28),\n",
       " ('Measles', 28),\n",
       " ('diabetes', 28),\n",
       " ('new', 27),\n",
       " ('such', 27),\n",
       " ('how', 27),\n",
       " ('much', 27),\n",
       " ('results', 27),\n",
       " ('They', 27),\n",
       " ('weight', 27),\n",
       " ('good', 27),\n",
       " ('Source:', 27),\n",
       " ('see', 26),\n",
       " ('cancer', 26),\n",
       " ('advice', 26),\n",
       " ('it.', 26),\n",
       " ('causes', 26),\n",
       " ('had', 26),\n",
       " ('research', 26),\n",
       " ('his', 26),\n",
       " ('He', 26),\n",
       " ('Peterson’s', 26),\n",
       " ('link', 25),\n",
       " ('Are', 25),\n",
       " ('show', 25),\n",
       " ('well', 25),\n",
       " ('them', 25),\n",
       " ('diets', 25),\n",
       " ('solar', 25),\n",
       " ('know', 25),\n",
       " ('science', 25),\n",
       " ('change', 25),\n",
       " ('disease', 25),\n",
       " ('within', 24),\n",
       " ('both', 24),\n",
       " ('body', 24),\n",
       " ('actually', 24),\n",
       " ('genetic', 24),\n",
       " ('me', 24),\n",
       " ('=', 24),\n",
       " ('contrary', 24),\n",
       " ('evolutionary', 24),\n",
       " ('group', 24)]"
      ]
     },
     "execution_count": 5,
     "metadata": {},
     "output_type": "execute_result"
    }
   ],
   "source": [
    "#Anzahl von Stichworten\n",
    "Counter(\" \".join(df_peer_sample[\"textOriginal\"]).split()).most_common(200)"
   ]
  },
  {
   "cell_type": "code",
   "execution_count": 6,
   "metadata": {},
   "outputs": [],
   "source": [
    "#science_news einlesen und bereinigen"
   ]
  },
  {
   "cell_type": "code",
   "execution_count": 7,
   "metadata": {},
   "outputs": [
    {
     "data": {
      "text/plain": [
       "1580"
      ]
     },
     "execution_count": 7,
     "metadata": {},
     "output_type": "execute_result"
    }
   ],
   "source": [
    "df_science = pd.read_csv('science_news_df.csv')\n",
    "df_science = df_science.drop(columns=[\"Unnamed: 0\"])\n",
    "df_science.index.size"
   ]
  },
  {
   "cell_type": "code",
   "execution_count": 8,
   "metadata": {},
   "outputs": [],
   "source": [
    "df_sci_cleaner = df_science[df_science['News_link'].str.contains('\\d', na=False, regex=True)]"
   ]
  },
  {
   "cell_type": "code",
   "execution_count": 9,
   "metadata": {},
   "outputs": [
    {
     "name": "stderr",
     "output_type": "stream",
     "text": [
      "/Applications/anaconda3/lib/python3.7/site-packages/pandas/core/frame.py:3494: SettingWithCopyWarning: \n",
      "A value is trying to be set on a copy of a slice from a DataFrame.\n",
      "Try using .loc[row_indexer,col_indexer] = value instead\n",
      "\n",
      "See the caveats in the documentation: http://pandas.pydata.org/pandas-docs/stable/user_guide/indexing.html#returning-a-view-versus-a-copy\n",
      "  self[k1] = value[k2]\n"
     ]
    }
   ],
   "source": [
    "df_sci_cleaner[['UUID_link','Anhang']] = df_sci_cleaner['News_link'].str.split('?',expand=True)\n",
    "df_sci_cleaner[['UUID_link','Anhang2']] = df_sci_cleaner['News_link'].str.split('#',expand=True)\n",
    "df_sci_cleaner = df_sci_cleaner.drop(columns=['Anhang', 'Anhang2'])\n"
   ]
  },
  {
   "cell_type": "code",
   "execution_count": 10,
   "metadata": {},
   "outputs": [],
   "source": [
    "df_sci_cleaner['UUID_link'] = df_sci_cleaner['News_link'].str.replace('https','http',regex=True)\n",
    "df_sci_cleaner = df_sci_cleaner[~df_sci_cleaner['News_link'].str.contains('...', regex = False)]"
   ]
  },
  {
   "cell_type": "code",
   "execution_count": 11,
   "metadata": {},
   "outputs": [],
   "source": [
    "df_sci_cleaner['News_link'] = df_sci_cleaner['News_link'].str.replace('\"','',regex=True)\n",
    "df_sci_cleaner['News_link'] = df_sci_cleaner['News_link'].str.replace(')','',regex=True)\n",
    "df_sci_cleaner['News_link'] = df_sci_cleaner['News_link'].str.replace(']','',regex=True)"
   ]
  },
  {
   "cell_type": "code",
   "execution_count": 12,
   "metadata": {},
   "outputs": [
    {
     "data": {
      "text/plain": [
       "1104"
      ]
     },
     "execution_count": 12,
     "metadata": {},
     "output_type": "execute_result"
    }
   ],
   "source": [
    "df_sci_cleaner = df_sci_cleaner[df_sci_cleaner['News_link'].str.contains('\\d', na=False, regex=True)]\n",
    "df_sci_cleaner.News_link.size"
   ]
  },
  {
   "cell_type": "code",
   "execution_count": 13,
   "metadata": {},
   "outputs": [],
   "source": [
    "#weitere Samplebildung\n",
    "df_sci_sample = df_sci_cleaner.sample(n=150, replace=True, random_state=1)"
   ]
  },
  {
   "cell_type": "code",
   "execution_count": 14,
   "metadata": {},
   "outputs": [
    {
     "data": {
      "text/plain": [
       "[('the', 1786),\n",
       " ('of', 1367),\n",
       " ('and', 1084),\n",
       " ('to', 933),\n",
       " ('a', 726),\n",
       " ('that', 684),\n",
       " ('in', 681),\n",
       " ('is', 600),\n",
       " ('are', 349),\n",
       " ('for', 346),\n",
       " ('you', 336),\n",
       " ('as', 282),\n",
       " ('have', 273),\n",
       " ('The', 267),\n",
       " ('I', 264),\n",
       " ('on', 256),\n",
       " ('it', 232),\n",
       " ('with', 227),\n",
       " ('by', 225),\n",
       " ('be', 223),\n",
       " ('not', 218),\n",
       " ('from', 191),\n",
       " ('or', 180),\n",
       " ('we', 172),\n",
       " ('more', 151),\n",
       " ('your', 151),\n",
       " ('this', 148),\n",
       " ('they', 145),\n",
       " ('about', 134),\n",
       " ('an', 133),\n",
       " ('but', 132),\n",
       " ('-', 131),\n",
       " ('was', 130),\n",
       " ('at', 129),\n",
       " ('their', 128),\n",
       " ('just', 116),\n",
       " ('has', 110),\n",
       " ('can', 110),\n",
       " ('were', 105),\n",
       " ('people', 105),\n",
       " ('which', 104),\n",
       " ('Jump', 104),\n",
       " ('who', 103),\n",
       " ('no', 102),\n",
       " ('would', 99),\n",
       " ('up^', 98),\n",
       " ('science', 97),\n",
       " ('up', 93),\n",
       " ('than', 91),\n",
       " ('evidence', 91),\n",
       " ('all', 90),\n",
       " ('our', 90),\n",
       " ('other', 88),\n",
       " ('been', 87),\n",
       " ('heart', 87),\n",
       " ('&', 87),\n",
       " ('if', 83),\n",
       " ('most', 83),\n",
       " ('one', 78),\n",
       " ('medical', 77),\n",
       " ('there', 76),\n",
       " ('what', 76),\n",
       " ('over', 76),\n",
       " ('get', 73),\n",
       " ('like', 72),\n",
       " ('out', 72),\n",
       " ('human', 72),\n",
       " ('these', 71),\n",
       " ('so', 71),\n",
       " ('my', 71),\n",
       " ('do', 70),\n",
       " ('some', 69),\n",
       " ('same', 68),\n",
       " ('also', 67),\n",
       " ('studies', 67),\n",
       " ('he', 66),\n",
       " ('health', 66),\n",
       " ('study', 64),\n",
       " ('disease', 64),\n",
       " ('only', 63),\n",
       " ('many', 61),\n",
       " ('even', 61),\n",
       " ('had', 61),\n",
       " ('because', 60),\n",
       " ('then', 59),\n",
       " ('how', 58),\n",
       " ('will', 58),\n",
       " ('You', 58),\n",
       " ('could', 57),\n",
       " ('It', 57),\n",
       " ('such', 56),\n",
       " ('animal', 55),\n",
       " ('Dr.', 55),\n",
       " ('them', 54),\n",
       " ('And', 54),\n",
       " (\"don't\", 54),\n",
       " ('two', 52),\n",
       " ('DNA', 52),\n",
       " ('If', 52),\n",
       " ('food', 51),\n",
       " ('into', 50),\n",
       " ('without', 50),\n",
       " ('know', 50),\n",
       " ('its', 50),\n",
       " ('PMID', 50),\n",
       " ('But', 49),\n",
       " ('why', 49),\n",
       " ('There', 47),\n",
       " ('This', 47),\n",
       " (\"it's\", 46),\n",
       " ('see', 45),\n",
       " ('make', 45),\n",
       " ('much', 45),\n",
       " ('found', 43),\n",
       " ('In', 43),\n",
       " ('\"The', 42),\n",
       " ('evolution', 42),\n",
       " ('article', 42),\n",
       " ('his', 41),\n",
       " ('may', 41),\n",
       " ('years', 41),\n",
       " ('scientific', 41),\n",
       " ('–', 41),\n",
       " ('*', 40),\n",
       " ('A', 39),\n",
       " ('time', 39),\n",
       " ('any', 38),\n",
       " ('those', 38),\n",
       " ('think', 38),\n",
       " ('both', 37),\n",
       " ('need', 37),\n",
       " ('gay', 37),\n",
       " ('They', 36),\n",
       " ('where', 36),\n",
       " ('So', 36),\n",
       " ('OFNF', 36),\n",
       " ('very', 36),\n",
       " ('proven', 36),\n",
       " ('me', 35),\n",
       " ('first', 35),\n",
       " ('want', 35),\n",
       " ('new', 34),\n",
       " ('These', 34),\n",
       " ('own', 34),\n",
       " ('when', 34),\n",
       " ('should', 34),\n",
       " ('made', 33),\n",
       " ('every', 33),\n",
       " ('between', 33),\n",
       " ('published', 33),\n",
       " ('us', 33),\n",
       " ('different', 32),\n",
       " ('does', 32),\n",
       " ('What', 32),\n",
       " ('used', 32),\n",
       " ('We', 32),\n",
       " ('men', 32),\n",
       " ('common', 31),\n",
       " ('animals', 31),\n",
       " ('use', 31),\n",
       " ('life', 30),\n",
       " ('video', 30),\n",
       " ('before', 30),\n",
       " ('same-sex', 30),\n",
       " ('(NutritionFacts.org', 30),\n",
       " ('after', 29),\n",
       " ('humans', 29),\n",
       " ('genes', 29),\n",
       " ('genetic', 29),\n",
       " ('diet', 28),\n",
       " ('show', 28),\n",
       " ('Native', 28),\n",
       " ('Harvard', 28),\n",
       " ('=', 27),\n",
       " ('find', 27),\n",
       " ('actually', 27),\n",
       " ('report', 27),\n",
       " ('children', 27),\n",
       " ('THE', 27),\n",
       " ('meat', 27),\n",
       " ('biggest', 27),\n",
       " ('cancer', 27),\n",
       " ('ever', 26),\n",
       " ('die', 26),\n",
       " ('still', 26),\n",
       " ('each', 26),\n",
       " ('among', 26),\n",
       " ('European', 26),\n",
       " ('Are', 26),\n",
       " (\"doesn't\", 26),\n",
       " ('doctors', 26),\n",
       " ('eat', 25),\n",
       " ('going', 25),\n",
       " ('fact', 25),\n",
       " ('based', 25),\n",
       " ('until', 25),\n",
       " ('being', 25),\n",
       " ('data', 25),\n",
       " ('evolutionary', 25),\n",
       " ('brain', 25)]"
      ]
     },
     "execution_count": 14,
     "metadata": {},
     "output_type": "execute_result"
    }
   ],
   "source": [
    "#Stichwortzählung beim weiteren Sample\n",
    "Counter(\" \".join(df_sci_sample[\"textOriginal\"]).split()).most_common(200)"
   ]
  },
  {
   "cell_type": "code",
   "execution_count": 15,
   "metadata": {},
   "outputs": [],
   "source": [
    "# Bildung von absoluten Zahlen, um diese zu relativen Verhältnissen umzumünzen (Top1)"
   ]
  },
  {
   "cell_type": "code",
   "execution_count": 16,
   "metadata": {},
   "outputs": [
    {
     "data": {
      "text/plain": [
       "24"
      ]
     },
     "execution_count": 16,
     "metadata": {},
     "output_type": "execute_result"
    }
   ],
   "source": [
    "df_sample_med = df_peer_sample[df_peer_sample['textOriginal'].str.contains('medical', regex = False)]\n",
    "df_sample_med.index.size"
   ]
  },
  {
   "cell_type": "code",
   "execution_count": 17,
   "metadata": {},
   "outputs": [
    {
     "data": {
      "text/plain": [
       "567"
      ]
     },
     "execution_count": 17,
     "metadata": {},
     "output_type": "execute_result"
    }
   ],
   "source": [
    "df_peer_med = df_peer[df_peer['textOriginal'].str.contains('medical', regex = True)]\n",
    "df_peer_med.index.size"
   ]
  },
  {
   "cell_type": "code",
   "execution_count": 18,
   "metadata": {},
   "outputs": [
    {
     "data": {
      "text/plain": [
       "8"
      ]
     },
     "execution_count": 18,
     "metadata": {},
     "output_type": "execute_result"
    }
   ],
   "source": [
    "df_sci_sample_heart = df_sci_sample[df_sci_sample['textOriginal'].str.contains('heart', regex = True)]\n",
    "df_sci_sample_heart.index.size"
   ]
  },
  {
   "cell_type": "code",
   "execution_count": 19,
   "metadata": {},
   "outputs": [
    {
     "data": {
      "text/plain": [
       "33"
      ]
     },
     "execution_count": 19,
     "metadata": {},
     "output_type": "execute_result"
    }
   ],
   "source": [
    "df_sci_cleaner_heart = df_sci_cleaner[df_sci_cleaner['textOriginal'].str.contains('heart', regex = True)]\n",
    "df_sci_cleaner_heart.index.size"
   ]
  },
  {
   "cell_type": "code",
   "execution_count": 20,
   "metadata": {},
   "outputs": [],
   "source": [
    "# Bildung von absoluten Zahlen, um diese zu relativen Verhältnissen umzumünzen (Top10)"
   ]
  },
  {
   "cell_type": "code",
   "execution_count": 21,
   "metadata": {},
   "outputs": [],
   "source": [
    "df_sample_med_all = df_peer_sample[df_peer_sample['textOriginal'].str.contains('medical|health|vitamin|cholesterol|remedies|diet|evolution|ancestral|energy|animals', regex = True)]"
   ]
  },
  {
   "cell_type": "code",
   "execution_count": 22,
   "metadata": {},
   "outputs": [
    {
     "data": {
      "text/plain": [
       "78"
      ]
     },
     "execution_count": 22,
     "metadata": {},
     "output_type": "execute_result"
    }
   ],
   "source": [
    "df_sample_med_all.index.size"
   ]
  },
  {
   "cell_type": "code",
   "execution_count": 23,
   "metadata": {},
   "outputs": [],
   "source": [
    "df_peer_med_all = df_peer[df_peer['textOriginal'].str.contains('medical|health|vitamin|cholesterol|remedies|diet|evolution|ancestral|energy|animals', regex = True)]"
   ]
  },
  {
   "cell_type": "code",
   "execution_count": 24,
   "metadata": {},
   "outputs": [
    {
     "data": {
      "text/plain": [
       "2473"
      ]
     },
     "execution_count": 24,
     "metadata": {},
     "output_type": "execute_result"
    }
   ],
   "source": [
    "df_peer_med_all.index.size"
   ]
  },
  {
   "cell_type": "code",
   "execution_count": 25,
   "metadata": {},
   "outputs": [],
   "source": [
    "df_sci_sample1_all = df_sci_sample[df_sci_sample['textOriginal'].str.contains('heart|medical|human|health|disease|animal|DNA|food|evolution|gay', regex = True)]"
   ]
  },
  {
   "cell_type": "code",
   "execution_count": 26,
   "metadata": {},
   "outputs": [
    {
     "data": {
      "text/plain": [
       "63"
      ]
     },
     "execution_count": 26,
     "metadata": {},
     "output_type": "execute_result"
    }
   ],
   "source": [
    "df_sci_sample1_all.index.size"
   ]
  },
  {
   "cell_type": "code",
   "execution_count": 27,
   "metadata": {},
   "outputs": [],
   "source": [
    "df_sci_cleaner_heart_all = df_sci_cleaner[df_sci_cleaner['textOriginal'].str.contains('heart|medical|human|health|disease|animal|DNA|food|evolution|gay', regex = True)]"
   ]
  },
  {
   "cell_type": "code",
   "execution_count": 28,
   "metadata": {},
   "outputs": [
    {
     "data": {
      "text/plain": [
       "458"
      ]
     },
     "execution_count": 28,
     "metadata": {},
     "output_type": "execute_result"
    }
   ],
   "source": [
    "df_sci_cleaner_heart_all.index.size"
   ]
  },
  {
   "cell_type": "code",
   "execution_count": 29,
   "metadata": {},
   "outputs": [],
   "source": [
    "#Extraktion von Titeln"
   ]
  },
  {
   "cell_type": "code",
   "execution_count": 30,
   "metadata": {},
   "outputs": [],
   "source": [
    "import urllib.request\n",
    "import json\n",
    "import urllib\n",
    "\n",
    "\n",
    "\n"
   ]
  },
  {
   "cell_type": "code",
   "execution_count": 31,
   "metadata": {},
   "outputs": [],
   "source": [
    "def toTitle(vidId):\n",
    "    #change to yours VideoID or change url inparams\n",
    "    VideoID = vidId\n",
    "\n",
    "    params = {\"format\": \"json\", \"url\": \"https://www.youtube.com/watch?v=%s\" % VideoID}\n",
    "    url = \"https://www.youtube.com/oembed\"\n",
    "    query_string = urllib.parse.urlencode(params)\n",
    "    url = url + \"?\" + query_string\n",
    "    try:\n",
    "            with urllib.request.urlopen(url) as response:\n",
    "                response_text = response.read()\n",
    "                data = json.loads(response_text.decode())\n",
    "                return(data['title'])\n",
    "    except:\n",
    "                return 'error:' "
   ]
  },
  {
   "cell_type": "code",
   "execution_count": 32,
   "metadata": {},
   "outputs": [],
   "source": [
    "#Anwendung der Funktion auf beide Samples"
   ]
  },
  {
   "cell_type": "code",
   "execution_count": 33,
   "metadata": {},
   "outputs": [],
   "source": [
    "df_peer_sample_titles = df_peer_sample.videoId.apply(toTitle)\n",
    "df_sci_sample_titles = df_sci_sample.videoId.apply(toTitle)"
   ]
  },
  {
   "cell_type": "code",
   "execution_count": 34,
   "metadata": {},
   "outputs": [
    {
     "data": {
      "text/plain": [
       "[('error:', 55),\n",
       " ('The', 26),\n",
       " ('Science', 13),\n",
       " ('the', 12),\n",
       " ('How', 11),\n",
       " ('of', 9),\n",
       " ('Diet', 8),\n",
       " ('About', 8),\n",
       " ('Are', 7),\n",
       " ('for', 7),\n",
       " ('is', 7),\n",
       " ('to', 7),\n",
       " ('Ketogenic', 7),\n",
       " ('|', 7),\n",
       " ('a', 6),\n",
       " ('&', 6),\n",
       " ('and', 5),\n",
       " ('Solar', 5),\n",
       " ('Truth', 5),\n",
       " ('What', 5),\n",
       " (\"Don't\", 5),\n",
       " ('on', 5),\n",
       " ('vs', 4),\n",
       " ('Is', 4),\n",
       " ('Debunked:', 4),\n",
       " ('Your', 4),\n",
       " ('Explained', 4),\n",
       " ('Vaccine', 4),\n",
       " ('Safety', 4),\n",
       " ('4', 3),\n",
       " ('That', 3),\n",
       " ('Humans', 3),\n",
       " ('Disease?', 3),\n",
       " ('Why', 3),\n",
       " ('Good', 3),\n",
       " ('Brain?', 3),\n",
       " ('Anti-Vaccination', 3),\n",
       " ('You', 3),\n",
       " ('Muscle', 3),\n",
       " ('I', 3),\n",
       " ('Global', 3),\n",
       " ('WASTE', 3),\n",
       " ('Money', 3),\n",
       " ('TheseSupplements!', 3),\n",
       " ('-', 3),\n",
       " ('Plants', 2),\n",
       " ('Great', 2),\n",
       " ('Does', 2),\n",
       " ('Eating', 2),\n",
       " ('Red', 2),\n",
       " ('Meat', 2),\n",
       " ('Eggs', 2),\n",
       " ('(TMAO)', 2),\n",
       " ('Cause', 2),\n",
       " ('Heart', 2),\n",
       " ('Sv3rige', 2),\n",
       " ('VeganGains', 2),\n",
       " ('Latest', 2),\n",
       " ('claim:', 2),\n",
       " ('Greenland', 2),\n",
       " ('ice', 2),\n",
       " ('sheet', 2),\n",
       " ('growing', 2),\n",
       " ('solar', 2),\n",
       " ('or', 2),\n",
       " ('Seismic', 2),\n",
       " ('Warning,', 2),\n",
       " ('Meteor,', 2),\n",
       " ('Storms,', 2),\n",
       " ('Watch', 2),\n",
       " ('S0', 2),\n",
       " ('News', 2),\n",
       " ('Apr.17.2017', 2),\n",
       " ('Vegans', 2),\n",
       " ('Research', 2),\n",
       " ('Perfect', 2),\n",
       " ('Potato:', 2),\n",
       " ('This', 2),\n",
       " (\"Spud's\", 2),\n",
       " ('Genetics', 2),\n",
       " ('My', 2),\n",
       " ('Getting', 2),\n",
       " ('Push', 2),\n",
       " ('Workout', 2),\n",
       " ('Feel', 2),\n",
       " ('Break', 2),\n",
       " ('Up', 2),\n",
       " ('Diets:', 2),\n",
       " ('Says', 2),\n",
       " ('Creationism', 2),\n",
       " ('Taught', 2),\n",
       " ('Me', 2),\n",
       " ('Real', 2),\n",
       " ('Sick', 2),\n",
       " ('Chimp', 2),\n",
       " ('Led', 2),\n",
       " ('Pandemic:', 2),\n",
       " ('Rise', 2),\n",
       " ('HIV', 2),\n",
       " (\"Alzheimer's\", 2)]"
      ]
     },
     "execution_count": 34,
     "metadata": {},
     "output_type": "execute_result"
    }
   ],
   "source": [
    "Counter(\" \".join(df_peer_sample_titles).split()).most_common(100)"
   ]
  },
  {
   "cell_type": "code",
   "execution_count": null,
   "metadata": {},
   "outputs": [],
   "source": []
  },
  {
   "cell_type": "code",
   "execution_count": 35,
   "metadata": {},
   "outputs": [
    {
     "data": {
      "text/plain": [
       "[('The', 27),\n",
       " ('Why', 24),\n",
       " ('error:', 20),\n",
       " ('the', 12),\n",
       " ('is', 11),\n",
       " ('Is', 10),\n",
       " ('-', 10),\n",
       " ('Are', 10),\n",
       " ('and', 10),\n",
       " ('Evolution', 9),\n",
       " ('What', 9),\n",
       " ('It', 8),\n",
       " ('of', 8),\n",
       " ('Do', 8),\n",
       " ('|', 8),\n",
       " ('Diet', 7),\n",
       " ('How', 7),\n",
       " ('a', 6),\n",
       " ('You', 6),\n",
       " ('A', 6),\n",
       " (\"Don't\", 6),\n",
       " ('This', 5),\n",
       " ('Solar', 5),\n",
       " ('to', 4),\n",
       " ('in', 4),\n",
       " ('Humans', 4),\n",
       " ('We', 4),\n",
       " ('If', 4),\n",
       " ('News', 4),\n",
       " ('True', 4),\n",
       " ('Many', 4),\n",
       " ('People', 4),\n",
       " ('Still', 4),\n",
       " ('Believe', 4),\n",
       " ('(Jerry', 4),\n",
       " ('Coyne,', 4),\n",
       " ('2012)', 4),\n",
       " ('Okay', 3),\n",
       " ('Touch', 3),\n",
       " ('Mars?', 3),\n",
       " ('Science', 3),\n",
       " ('Expelled:', 3),\n",
       " ('No', 3),\n",
       " ('Intelligence', 3),\n",
       " ('Allowed', 3),\n",
       " ('(full', 3),\n",
       " ('movie)', 3),\n",
       " ('Vegan', 3),\n",
       " ('Than', 3),\n",
       " ('Great', 3),\n",
       " ('Could', 3),\n",
       " ('Kill', 3),\n",
       " ('Bill', 3),\n",
       " ('Way', 3),\n",
       " ('Quantum', 3),\n",
       " ('Physics', 3),\n",
       " ('Debunks', 3),\n",
       " ('Materialism', 3),\n",
       " ('VEGAN', 3),\n",
       " ('Bodybuilding', 3),\n",
       " ('&', 3),\n",
       " ('THE', 3),\n",
       " ('TRUTH', 3),\n",
       " ('(#Pirula', 3),\n",
       " ('Does', 3),\n",
       " ('On', 3),\n",
       " ('No,', 3),\n",
       " ('Have', 3),\n",
       " ('And', 3),\n",
       " ('S0', 3),\n",
       " ('For', 3),\n",
       " ('Not', 3),\n",
       " ('Fast', 2),\n",
       " ('5', 2),\n",
       " ('About', 2),\n",
       " ('Anti-Vaccination', 2),\n",
       " ('Boys', 2),\n",
       " ('Smarter', 2),\n",
       " ('Girls?', 2),\n",
       " ('Homophobia', 2),\n",
       " ('Accelerating', 2),\n",
       " ('high-latitude', 2),\n",
       " ('jet', 2),\n",
       " ('Earth’s', 2),\n",
       " ('core', 2),\n",
       " ('In', 2),\n",
       " ('Nye', 2),\n",
       " ('See', 2),\n",
       " ('Can', 2),\n",
       " ('Every', 2),\n",
       " ('Scientist', 2),\n",
       " ('Accepts', 2),\n",
       " ('World', 2),\n",
       " ('Free', 2),\n",
       " ('Will', 2),\n",
       " ('Works', 2),\n",
       " ('Space', 2),\n",
       " ('Help', 2),\n",
       " ('3', 2),\n",
       " ('Love', 2)]"
      ]
     },
     "execution_count": 35,
     "metadata": {},
     "output_type": "execute_result"
    }
   ],
   "source": [
    "Counter(\" \".join(df_sci_sample_titles).split()).most_common(100)"
   ]
  },
  {
   "cell_type": "code",
   "execution_count": 36,
   "metadata": {},
   "outputs": [],
   "source": [
    "#Bildung von Mittelwerten"
   ]
  },
  {
   "cell_type": "code",
   "execution_count": 37,
   "metadata": {},
   "outputs": [
    {
     "data": {
      "text/plain": [
       "0.40100878562584863"
      ]
     },
     "execution_count": 37,
     "metadata": {},
     "output_type": "execute_result"
    }
   ],
   "source": [
    "df_peer.subjectivity.mean()"
   ]
  },
  {
   "cell_type": "code",
   "execution_count": 38,
   "metadata": {},
   "outputs": [
    {
     "data": {
      "text/plain": [
       "0.3577326929013737"
      ]
     },
     "execution_count": 38,
     "metadata": {},
     "output_type": "execute_result"
    }
   ],
   "source": [
    "df_sci_cleaner.subjectivity.mean()"
   ]
  },
  {
   "cell_type": "code",
   "execution_count": 39,
   "metadata": {},
   "outputs": [
    {
     "data": {
      "text/plain": [
       "0.42054458765123803"
      ]
     },
     "execution_count": 39,
     "metadata": {},
     "output_type": "execute_result"
    }
   ],
   "source": [
    "df_peer_sample.subjectivity.mean()"
   ]
  },
  {
   "cell_type": "code",
   "execution_count": 40,
   "metadata": {},
   "outputs": [
    {
     "data": {
      "text/plain": [
       "0.37936330192572465"
      ]
     },
     "execution_count": 40,
     "metadata": {},
     "output_type": "execute_result"
    }
   ],
   "source": [
    "df_sci_sample.subjectivity.mean()"
   ]
  },
  {
   "cell_type": "code",
   "execution_count": 41,
   "metadata": {},
   "outputs": [
    {
     "data": {
      "text/plain": [
       "0.10365127384377981"
      ]
     },
     "execution_count": 41,
     "metadata": {},
     "output_type": "execute_result"
    }
   ],
   "source": [
    "df_peer_sample.polarity.mean()"
   ]
  },
  {
   "cell_type": "code",
   "execution_count": 42,
   "metadata": {},
   "outputs": [
    {
     "data": {
      "text/plain": [
       "0.09354308615235223"
      ]
     },
     "execution_count": 42,
     "metadata": {},
     "output_type": "execute_result"
    }
   ],
   "source": [
    "df_sci_sample.polarity.mean()"
   ]
  },
  {
   "cell_type": "code",
   "execution_count": null,
   "metadata": {},
   "outputs": [],
   "source": []
  },
  {
   "cell_type": "code",
   "execution_count": null,
   "metadata": {},
   "outputs": [],
   "source": []
  }
 ],
 "metadata": {
  "kernelspec": {
   "display_name": "Python 3",
   "language": "python",
   "name": "python3"
  },
  "language_info": {
   "codemirror_mode": {
    "name": "ipython",
    "version": 3
   },
   "file_extension": ".py",
   "mimetype": "text/x-python",
   "name": "python",
   "nbconvert_exporter": "python",
   "pygments_lexer": "ipython3",
   "version": "3.7.4"
  }
 },
 "nbformat": 4,
 "nbformat_minor": 4
}
