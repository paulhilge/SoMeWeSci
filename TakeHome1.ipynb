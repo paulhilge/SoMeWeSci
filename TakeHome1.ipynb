{
 "cells": [
  {
   "cell_type": "code",
   "execution_count": 1,
   "metadata": {},
   "outputs": [],
   "source": [
    "import pandas as pd\n",
    "import numpy as np"
   ]
  },
  {
   "cell_type": "code",
   "execution_count": 2,
   "metadata": {},
   "outputs": [],
   "source": [
    "#Import\n",
    "df_peer = pd.read_csv('peer_reviewed_df.csv')\n",
    "df_peer = df_peer.drop(columns=[\"Unnamed: 0\"])"
   ]
  },
  {
   "cell_type": "code",
   "execution_count": 3,
   "metadata": {},
   "outputs": [],
   "source": [
    "#Gesamte Anzahl aller Zeilen am Anfang"
   ]
  },
  {
   "cell_type": "code",
   "execution_count": 4,
   "metadata": {},
   "outputs": [
    {
     "data": {
      "text/plain": [
       "5730"
      ]
     },
     "execution_count": 4,
     "metadata": {},
     "output_type": "execute_result"
    }
   ],
   "source": [
    "df_peer.index.size"
   ]
  },
  {
   "cell_type": "code",
   "execution_count": 5,
   "metadata": {},
   "outputs": [
    {
     "data": {
      "text/plain": [
       "5578"
      ]
     },
     "execution_count": 5,
     "metadata": {},
     "output_type": "execute_result"
    }
   ],
   "source": [
    "#Aufgabe 1.1\n",
    "morethanonce = df_peer.drop_duplicates(subset=['textOriginal', 'UUID_link'], keep='last')\n",
    "morethanonce.index.size"
   ]
  },
  {
   "cell_type": "code",
   "execution_count": 6,
   "metadata": {},
   "outputs": [
    {
     "data": {
      "text/plain": [
       "4371"
      ]
     },
     "execution_count": 6,
     "metadata": {},
     "output_type": "execute_result"
    }
   ],
   "source": [
    "#Aufgabe 1.2\n",
    "df_peer_link_unique = df_peer.drop_duplicates('UUID_link', keep='last')\n",
    "df_peer_link_unique.index.size"
   ]
  },
  {
   "cell_type": "code",
   "execution_count": 7,
   "metadata": {},
   "outputs": [
    {
     "data": {
      "text/plain": [
       "1430"
      ]
     },
     "execution_count": 7,
     "metadata": {},
     "output_type": "execute_result"
    }
   ],
   "source": [
    "#Aufgabe 1.3\n",
    "df_peer_video_unique = df_peer.drop_duplicates('videoId', keep='last')\n",
    "df_peer_video_unique.index.size"
   ]
  },
  {
   "cell_type": "code",
   "execution_count": 8,
   "metadata": {},
   "outputs": [
    {
     "data": {
      "text/plain": [
       "3045"
      ]
     },
     "execution_count": 8,
     "metadata": {},
     "output_type": "execute_result"
    }
   ],
   "source": [
    "#Aufgabe 1.4\n",
    "df_peer_comments_unique = df_peer.drop_duplicates('textOriginal', keep='last')\n",
    "df_peer_comments_unique.index.size"
   ]
  },
  {
   "cell_type": "code",
   "execution_count": 9,
   "metadata": {},
   "outputs": [
    {
     "data": {
      "text/plain": [
       "6Ib2WMBmfFo    137\n",
       "Rzxr9FeZf1g    129\n",
       "MzHLAqyO7PQ    101\n",
       "IaEJvtriFns     62\n",
       "yNxhuxV7FV4     57\n",
       "duqcbJbElo4     55\n",
       "4C5pq7W5yRM     47\n",
       "bEieWJghRNY     46\n",
       "tE9jiPyLYZA     31\n",
       "LiZlBspV2-M     31\n",
       "Name: videoId, dtype: int64"
      ]
     },
     "execution_count": 9,
     "metadata": {},
     "output_type": "execute_result"
    }
   ],
   "source": [
    "#Aufgabe 1.5\n",
    "df_peer_nonDeleted = df_peer[(df_peer['video_isdeleted (16/06/21)'] == False) & (df_peer['video_isdeleted (first_check)'] == False)]\n",
    "top10_withDeletion = df_peer_nonDeleted['videoId'].value_counts().head(10)\n",
    "top10_withDeletion"
   ]
  },
  {
   "cell_type": "code",
   "execution_count": 10,
   "metadata": {},
   "outputs": [
    {
     "data": {
      "text/plain": [
       "6Ib2WMBmfFo    137\n",
       "U88fOB0VIoI    135\n",
       "Rzxr9FeZf1g    129\n",
       "fpqPRfJk3Ac    111\n",
       "MzHLAqyO7PQ    101\n",
       "IaEJvtriFns     62\n",
       "uWO0Cdoh6Cc     61\n",
       "yNxhuxV7FV4     57\n",
       "duqcbJbElo4     55\n",
       "56u-pziJaYs     50\n",
       "Name: videoId, dtype: int64"
      ]
     },
     "execution_count": 10,
     "metadata": {},
     "output_type": "execute_result"
    }
   ],
   "source": [
    "top10_withoutDeletion = df_peer['videoId'].value_counts().head(10)\n",
    "top10_withoutDeletion"
   ]
  },
  {
   "cell_type": "code",
   "execution_count": 11,
   "metadata": {},
   "outputs": [],
   "source": [
    "#Aufgabe 2"
   ]
  },
  {
   "cell_type": "code",
   "execution_count": 12,
   "metadata": {},
   "outputs": [
    {
     "data": {
      "text/plain": [
       "5642"
      ]
     },
     "execution_count": 12,
     "metadata": {},
     "output_type": "execute_result"
    }
   ],
   "source": [
    "#2.1\n",
    "df_cleaned = df_peer[df_peer['UUID_link'].str.contains('\\d', na=False, regex=True)]\n",
    "df_cleaned.index.size"
   ]
  },
  {
   "cell_type": "code",
   "execution_count": 13,
   "metadata": {},
   "outputs": [
    {
     "name": "stderr",
     "output_type": "stream",
     "text": [
      "/Applications/anaconda3/lib/python3.7/site-packages/pandas/core/frame.py:3494: SettingWithCopyWarning: \n",
      "A value is trying to be set on a copy of a slice from a DataFrame.\n",
      "Try using .loc[row_indexer,col_indexer] = value instead\n",
      "\n",
      "See the caveats in the documentation: http://pandas.pydata.org/pandas-docs/stable/user_guide/indexing.html#returning-a-view-versus-a-copy\n",
      "  self[k1] = value[k2]\n"
     ]
    }
   ],
   "source": [
    "#2.2\n",
    "df_cleaned[['UUID_link','Anhang']] = df_cleaned['UUID_link'].str.split('?',expand=True)"
   ]
  },
  {
   "cell_type": "code",
   "execution_count": 14,
   "metadata": {},
   "outputs": [],
   "source": [
    "#2.3\n",
    "df_cleaned[['UUID_link','Anhang2']] = df_cleaned['UUID_link'].str.split('#',expand=True)\n",
    "df_cleaned = df_cleaned.drop(columns=['Anhang', 'Anhang2'])"
   ]
  },
  {
   "cell_type": "code",
   "execution_count": 15,
   "metadata": {},
   "outputs": [],
   "source": [
    "#2.4\n",
    "df_cleaned['UUID_link'] = df_cleaned['UUID_link'].str.replace('https','http',regex=True)"
   ]
  },
  {
   "cell_type": "code",
   "execution_count": 16,
   "metadata": {},
   "outputs": [],
   "source": [
    "#2.5\n",
    "df_cleaned = df_cleaned[~df_cleaned['UUID_link'].str.contains('...', regex = False)]\n",
    "df_cleaned['UUID_link'] = df_cleaned['UUID_link'].str.replace('\"','',regex=True)\n",
    "df_cleaned['UUID_link'] = df_cleaned['UUID_link'].str.replace(')','',regex=True)\n",
    "df_cleaned['UUID_link'] = df_cleaned['UUID_link'].str.replace(']','',regex=True)"
   ]
  },
  {
   "cell_type": "code",
   "execution_count": 17,
   "metadata": {},
   "outputs": [
    {
     "data": {
      "text/plain": [
       "5541"
      ]
     },
     "execution_count": 17,
     "metadata": {},
     "output_type": "execute_result"
    }
   ],
   "source": [
    "df_cleaned.index.size"
   ]
  },
  {
   "cell_type": "code",
   "execution_count": 18,
   "metadata": {},
   "outputs": [],
   "source": [
    "#Doppelte Durchführung von 2.1"
   ]
  },
  {
   "cell_type": "code",
   "execution_count": 19,
   "metadata": {},
   "outputs": [
    {
     "data": {
      "text/plain": [
       "5330"
      ]
     },
     "execution_count": 19,
     "metadata": {},
     "output_type": "execute_result"
    }
   ],
   "source": [
    "df_cleaned_double = df_cleaned[df_cleaned['UUID_link'].str.contains('\\d', na=False, regex=True)]\n",
    "df_cleaned_double.UUID_link.size"
   ]
  },
  {
   "cell_type": "code",
   "execution_count": 20,
   "metadata": {},
   "outputs": [],
   "source": [
    "df_cleaned.to_csv('peer_half_cleaned.csv')\n",
    "df_cleaned_double.to_csv('peer_cleaned.csv')"
   ]
  },
  {
   "cell_type": "code",
   "execution_count": null,
   "metadata": {},
   "outputs": [],
   "source": []
  },
  {
   "cell_type": "code",
   "execution_count": null,
   "metadata": {},
   "outputs": [],
   "source": []
  },
  {
   "cell_type": "code",
   "execution_count": null,
   "metadata": {},
   "outputs": [],
   "source": []
  }
 ],
 "metadata": {
  "kernelspec": {
   "display_name": "Python 3",
   "language": "python",
   "name": "python3"
  },
  "language_info": {
   "codemirror_mode": {
    "name": "ipython",
    "version": 3
   },
   "file_extension": ".py",
   "mimetype": "text/x-python",
   "name": "python",
   "nbconvert_exporter": "python",
   "pygments_lexer": "ipython3",
   "version": "3.7.4"
  }
 },
 "nbformat": 4,
 "nbformat_minor": 4
}
