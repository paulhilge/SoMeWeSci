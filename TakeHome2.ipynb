{
 "cells": [
  {
   "cell_type": "code",
   "execution_count": 1,
   "metadata": {},
   "outputs": [],
   "source": [
    "import pandas as pd\n",
    "import numpy as np"
   ]
  },
  {
   "cell_type": "code",
   "execution_count": 2,
   "metadata": {},
   "outputs": [],
   "source": [
    "df_cleaned = pd.read_csv('peer_cleaned.csv')\n",
    "df_cleaned = df_cleaned.drop(columns=[\"Unnamed: 0\"])"
   ]
  },
  {
   "cell_type": "code",
   "execution_count": 3,
   "metadata": {},
   "outputs": [
    {
     "data": {
      "text/plain": [
       "5330"
      ]
     },
     "execution_count": 3,
     "metadata": {},
     "output_type": "execute_result"
    }
   ],
   "source": [
    "#Allgemeine Größe des Clean Datasets\n",
    "df_cleaned.index.size"
   ]
  },
  {
   "cell_type": "code",
   "execution_count": 4,
   "metadata": {},
   "outputs": [
    {
     "data": {
      "text/plain": [
       "5213"
      ]
     },
     "execution_count": 4,
     "metadata": {},
     "output_type": "execute_result"
    }
   ],
   "source": [
    "#3.1.1\n",
    "morethanonce_cleaned = df_cleaned.drop_duplicates(subset=['textOriginal', 'UUID_link'], keep='last')\n",
    "morethanonce_cleaned.index.size"
   ]
  },
  {
   "cell_type": "code",
   "execution_count": 5,
   "metadata": {},
   "outputs": [
    {
     "data": {
      "text/plain": [
       "3948"
      ]
     },
     "execution_count": 5,
     "metadata": {},
     "output_type": "execute_result"
    }
   ],
   "source": [
    "#3.1.2\n",
    "df_cleaned_unique = df_cleaned.drop_duplicates('UUID_link', keep='last')\n",
    "df_cleaned_unique.index.size"
   ]
  },
  {
   "cell_type": "code",
   "execution_count": 6,
   "metadata": {},
   "outputs": [
    {
     "data": {
      "text/plain": [
       "1367"
      ]
     },
     "execution_count": 6,
     "metadata": {},
     "output_type": "execute_result"
    }
   ],
   "source": [
    "#3.1.3\n",
    "df_cleaned_unique = df_cleaned.drop_duplicates('videoId', keep='last')\n",
    "df_cleaned_unique.index.size"
   ]
  },
  {
   "cell_type": "code",
   "execution_count": 7,
   "metadata": {},
   "outputs": [
    {
     "data": {
      "text/plain": [
       "2858"
      ]
     },
     "execution_count": 7,
     "metadata": {},
     "output_type": "execute_result"
    }
   ],
   "source": [
    "#3.1.4\n",
    "df_cleaned_comments_unique = df_cleaned.drop_duplicates('textOriginal', keep='last')\n",
    "df_cleaned_comments_unique.index.size"
   ]
  },
  {
   "cell_type": "code",
   "execution_count": 8,
   "metadata": {},
   "outputs": [],
   "source": [
    "#3.1.5"
   ]
  },
  {
   "cell_type": "code",
   "execution_count": 9,
   "metadata": {},
   "outputs": [
    {
     "data": {
      "text/plain": [
       "6Ib2WMBmfFo    137\n",
       "Rzxr9FeZf1g    124\n",
       "MzHLAqyO7PQ     96\n",
       "yNxhuxV7FV4     56\n",
       "duqcbJbElo4     53\n",
       "IaEJvtriFns     48\n",
       "4C5pq7W5yRM     47\n",
       "bEieWJghRNY     41\n",
       "yoP6NCGb3oM     30\n",
       "Km3uhv6oVWg     29\n",
       "Name: videoId, dtype: int64"
      ]
     },
     "execution_count": 9,
     "metadata": {},
     "output_type": "execute_result"
    }
   ],
   "source": [
    "df_cleaned_nonDeleted = df_cleaned[(df_cleaned['video_isdeleted (16/06/21)'] == False) & (df_cleaned['video_isdeleted (first_check)'] == False)]\n",
    "\n",
    "top10_withDeletion_cleaned = df_cleaned_nonDeleted['videoId'].value_counts().head(10)\n",
    "top10_withDeletion_cleaned"
   ]
  },
  {
   "cell_type": "code",
   "execution_count": 10,
   "metadata": {},
   "outputs": [
    {
     "data": {
      "text/plain": [
       "6Ib2WMBmfFo    137\n",
       "U88fOB0VIoI    133\n",
       "Rzxr9FeZf1g    124\n",
       "fpqPRfJk3Ac    101\n",
       "MzHLAqyO7PQ     96\n",
       "uWO0Cdoh6Cc     60\n",
       "yNxhuxV7FV4     56\n",
       "duqcbJbElo4     53\n",
       "56u-pziJaYs     49\n",
       "IaEJvtriFns     48\n",
       "Name: videoId, dtype: int64"
      ]
     },
     "execution_count": 10,
     "metadata": {},
     "output_type": "execute_result"
    }
   ],
   "source": [
    "top10_withoutDeletion_cleaned = df_cleaned['videoId'].value_counts().head(10)\n",
    "top10_withoutDeletion_cleaned"
   ]
  },
  {
   "cell_type": "code",
   "execution_count": null,
   "metadata": {},
   "outputs": [],
   "source": []
  },
  {
   "cell_type": "code",
   "execution_count": null,
   "metadata": {},
   "outputs": [],
   "source": []
  },
  {
   "cell_type": "code",
   "execution_count": null,
   "metadata": {},
   "outputs": [],
   "source": []
  }
 ],
 "metadata": {
  "kernelspec": {
   "display_name": "Python 3",
   "language": "python",
   "name": "python3"
  },
  "language_info": {
   "codemirror_mode": {
    "name": "ipython",
    "version": 3
   },
   "file_extension": ".py",
   "mimetype": "text/x-python",
   "name": "python",
   "nbconvert_exporter": "python",
   "pygments_lexer": "ipython3",
   "version": "3.7.4"
  }
 },
 "nbformat": 4,
 "nbformat_minor": 4
}
